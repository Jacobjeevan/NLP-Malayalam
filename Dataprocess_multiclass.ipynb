{
 "cells": [
  {
   "cell_type": "code",
   "execution_count": 1,
   "metadata": {},
   "outputs": [
    {
     "name": "stdout",
     "output_type": "stream",
     "text": [
      "/home/jjjeevan/ml-languagemodel\n"
     ]
    }
   ],
   "source": [
    "cd ml-languagemodel/"
   ]
  },
  {
   "cell_type": "code",
   "execution_count": 3,
   "metadata": {},
   "outputs": [],
   "source": [
    "import pandas as pd\n",
    "import numpy as np\n",
    "import matplotlib.pyplot as plt\n",
    "import json, re\n",
    "pd.options.display.max_rows\n",
    "pd.set_option('display.max_colwidth', -1)\n",
    "import flair\n",
    "\n",
    "%matplotlib inline"
   ]
  },
  {
   "cell_type": "code",
   "execution_count": 18,
   "metadata": {},
   "outputs": [],
   "source": [
    "mldata = pd.read_csv('AllWiki.csv', encoding='utf-8')"
   ]
  },
  {
   "cell_type": "code",
   "execution_count": 20,
   "metadata": {
    "scrolled": true
   },
   "outputs": [],
   "source": [
    "for i in range(len(mldata)):\n",
    "    tkn = mldata.iloc[i]['text']\n",
    "    #mld = re.sub('[http]{4}\\S*', '', mld) #Remove links\n",
    "    tkn = tkn.replace('\\n','').replace('\\u200c', '').replace('\\u200d', '').replace('<br>', '').replace('\"', '').replace('&', '')\n",
    "    #('([“”¨«»®´·º½¾¿¡§£₤‘’\\n\\r>])', '')\n",
    "    tkn = re.sub('\\([\\w|\\s|\\,|\\(|\\)|\\:|\\;]*\\)','', tkn) #Remove english words inside paren\n",
    "    #tkn = re.sub('[[:space:]]{2}','[[:space:]]', tkn)\n",
    "    tkn = re.sub('[a-zA-Z]+','',tkn)\n",
    "    #tkn = re.sub('\\<|\\>|\\=|\\/|\\_|\\(|\\)', '', tkn)\n",
    "    #tkn = re.sub(':', '', tkn)\n",
    "    #tkn = re.sub('\\.',' ', tkn)\n",
    "    #tkn = re.sub('[0-9]+[\\-\\:\\.\\,\\–]*[0-9]+','NUM', tkn)\n",
    "    tkn = re.split('\\.|\\s',tkn)\n",
    "    tkn = list(filter(None, tkn)) \n",
    "    #mld.remove('')\n",
    "    mldata.iloc[i]['text'] = ' '.join(tkn)"
   ]
  },
  {
   "cell_type": "code",
   "execution_count": 46,
   "metadata": {},
   "outputs": [
    {
     "name": "stdout",
     "output_type": "stream",
     "text": [
      "boo\n"
     ]
    }
   ],
   "source": [
    "mldata = mldata.dropna()\n",
    "if (mldata.iloc[31315]['text'] == ''):\n",
    "    print('boo')"
   ]
  },
  {
   "cell_type": "code",
   "execution_count": 31,
   "metadata": {},
   "outputs": [
    {
     "data": {
      "text/html": [
       "<div>\n",
       "<style scoped>\n",
       "    .dataframe tbody tr th:only-of-type {\n",
       "        vertical-align: middle;\n",
       "    }\n",
       "\n",
       "    .dataframe tbody tr th {\n",
       "        vertical-align: top;\n",
       "    }\n",
       "\n",
       "    .dataframe thead th {\n",
       "        text-align: right;\n",
       "    }\n",
       "</style>\n",
       "<table border=\"1\" class=\"dataframe\">\n",
       "  <thead>\n",
       "    <tr style=\"text-align: right;\">\n",
       "      <th></th>\n",
       "      <th>text</th>\n",
       "    </tr>\n",
       "  </thead>\n",
       "  <tbody>\n",
       "    <tr>\n",
       "      <th>31313</th>\n",
       "      <td>ബി എം ഗഫൂർഒരു കാർട്ടൂണിസ്റ്റും, ചിത്രകാരനുമായിരുന്നു ബി എം ഗഫൂർ (1942-നവംബർ 13 2003) കേരള കാർട്ടൂൺ അക്കാദമിയുടെ സ്ഥാപകസെക്രട്ടറിയായി പ്രവർത്തിച്ചിട്ടുണ്ട് മാതൃഭൂമിയിൽ കുഞ്ഞമ്മാൻ എന്ന കാർട്ടൂൺ തുടങ്ങിയത് ഗഫൂറായിരുന്നു 1942 ൽ തലശ്ശേരിയിൽ ജനനം ചന്ദ്രിക ദിനപത്രത്തിൽ ആർട്ടിസ്റ്റായി കലാജീവിതത്തിനു തുടക്കം പിന്നീട് കാർട്ടൂണിസ്റ്റ് ശങ്കറിന്റെ ശങ്കേഴ്സ് വീക്ക്ലിയിൽ സ്റ്റാഫ് കാർട്ടൂണിസ്റ്റായി 1980 മുതൽ മാതൃഭൂമി ദിനപത്രത്തിൽ സ്റ്റാഫ് കാർട്ടൂണിസ്റ്റായി ജോലി ചെയ്തു 2003 നവംബർ 13-ന് കോഴിക്കോട്ടെ വസതിയിൽ വെച്ച് അന്തരിച്ചു കഥാകാരി ബി എം സുഹറ സഹോദരിയാണ്</td>\n",
       "    </tr>\n",
       "    <tr>\n",
       "      <th>31314</th>\n",
       "      <td>ടി കെ സുജിത്ത്മലയാളത്തിലെ രാഷ്ട്രീയ കാർട്ടൂണിസ്റ്റുകളിൽ പ്രമുഖനാണ് സുജിത്ത് 1977 മെയ് 31-നു ടി ആർ കുമാരന്റെയും പി ആർ തങ്കമണിയുടെയും മകനായി തൃശ്ശൂരിൽ ജനിച്ചു 2001 മെയ് 14 മുതൽ കേരള കൗമുദി ദിനപത്രത്തിൽ ദിനപത്രത്തിൽ ജോലിചെയ്യുന്നു കോഴിക്കോട് സർവ്വകലാശാലയിൽ നിന്നും രസതന്ത്രത്തിൽ ബിരുദവും തൃശ്ശൂർ ഗവണ്മെന്റ് ലാ കോളെജിൽ നിന്ന് എൽ എൽ ബി ബിരുദവും തിരുവനന്തപുരം ലാ കോളെജിൽ നിന്ന് എൽ എൽ എം ബിരുദാനന്തര ബിരുദവും നേടി ചിത്രകലയിലോ കാർട്ടൂൺ വരയിലോ സാമ്പ്രാദയിക പരിശീലനം നേടിയിട്ടില്ലാത്ത ഇദ്ദേഹം താൻ ഇപ്പോഴും ഒരു വിദ്യാർത്ഥിയാണെന്നു കരുതുന്നു ലളിതമായ വരകളും കുറിക്കുകൊള്ളുന്ന വാചകങ്ങളും ഇദ്ദേഹത്തിന്റെ കാർട്ടൂൺ ശൈലിയുടെ പ്രത്യേകതയാണ് ഗ്രാമ്യ ഭാഷയുടെ പ്രയോഗം പലപ്പോഴു ഇദ്ദേഹത്തിന്റെ കാർട്ടൂണിനു ഒരു നാടൻ ടച്ച് നൽകുന്നു വായനക്കാരനുമായി കുറച്ചുകൂടി അടുത്ത് സംവദിക്കാൻ ഈ ശൈലി അദ്ദേഹത്തെ സഹായിക്കുന്നു</td>\n",
       "    </tr>\n",
       "    <tr>\n",
       "      <th>31315</th>\n",
       "      <td></td>\n",
       "    </tr>\n",
       "    <tr>\n",
       "      <th>31316</th>\n",
       "      <td>ടി എച്ച് വിനായക് റാംതേട്ടക്കുടി ഹരിഹര വിനായക് റാം (വിക്കു വിനായക് റാം എന്നും അറിയപ്പെടുന്നു) കർണ്ണാടക സംഗീതത്തിലെ വിശ്വപ്രസിദ്ധനായ വൃന്ദവാദകനാണ് ഘടം എന്ന വാദ്യോപകരണത്തിന്റെ സാധ്യതകൾ സമീപകാലത്ത് ഏറ്റവും പ്രയോജനപ്പെടുത്തിയ ഇദ്ദേഹം ഇന്ത്യയിൽ മാത്രം പ്രചാരത്തിലുള്ള ഈ സംഗീതോപകരണത്തെ വിശ്വപ്രസിദ്ധമാക്കുന്നതിൽ നിർണ്ണായക പങ്കുവഹിച്ചു കർണ്ണാടക സംഗീതലോകത്ത് അതുല്യമായ താളബോധത്തിന്റെ പേരിൽ ശ്രദ്ധേയനാണു വിനായക് റാം അറിയപ്പെടുന്ന സംഗീതജ്ഞനായിരുന്ന ടി ആർ ഹരിഹര ശർമ്മയുടെ പുത്രനായി 1942ലാണ് വിനായക് റാം ജനിച്ചത് പതിമൂന്നാം വയസിൽ ആദ്യകച്ചേരി നടത്തിയ വിക്കു, തുടക്കത്തിൽതന്നെ ശെമ്മാങ്കുടി ശ്രീനിവാസ അയ്യർ, മധുര മണി അയ്യർ, എം എസ് സുബലക്ഷ്മി, ജി എൻ ബാലസുബ്രഹ്മണ്യം എന്നിങ്ങനെ കർണ്ണാടക സംഗീത ലോകത്തെ ആചാര്യരുമൊത്ത് കച്ചേരികൾ നടത്തി 1970കളുടെ മധ്യത്തിൽ “ശക്തി” എന്ന സംഗീതസംഘത്തിൽ അംഗമായതോടെയാണ് വിനായക് റാം രാജ്യാന്തരവേദികളിൽ ശ്രദ്ധേയനായത് ജാസ് ഗിറ്റാർ വാദകനായ ജോൺ മൿലോലിൻ, വയലിൻ വിദ്വാൻ എൽ ശങ്കർ, ലോകോത്തര തബല വാദകനായ സാക്കിർ ഹുസൈൻ എന്നിവരായിരുന്നു ശക്തിയിലെ മറ്റംഗങ്ങൾ</td>\n",
       "    </tr>\n",
       "  </tbody>\n",
       "</table>\n",
       "</div>"
      ],
      "text/plain": [
       "                                                                                                                                                                                                                                                                                                                                                                                                                                                                                                                                                                                                                                                                                                                                                                                                                                                                                                                                                                                           text\n",
       "31313  ബി എം ഗഫൂർഒരു കാർട്ടൂണിസ്റ്റും, ചിത്രകാരനുമായിരുന്നു ബി എം ഗഫൂർ (1942-നവംബർ 13 2003) കേരള കാർട്ടൂൺ അക്കാദമിയുടെ സ്ഥാപകസെക്രട്ടറിയായി പ്രവർത്തിച്ചിട്ടുണ്ട് മാതൃഭൂമിയിൽ കുഞ്ഞമ്മാൻ എന്ന കാർട്ടൂൺ തുടങ്ങിയത് ഗഫൂറായിരുന്നു 1942 ൽ തലശ്ശേരിയിൽ ജനനം ചന്ദ്രിക ദിനപത്രത്തിൽ ആർട്ടിസ്റ്റായി കലാജീവിതത്തിനു തുടക്കം പിന്നീട് കാർട്ടൂണിസ്റ്റ് ശങ്കറിന്റെ ശങ്കേഴ്സ് വീക്ക്ലിയിൽ സ്റ്റാഫ് കാർട്ടൂണിസ്റ്റായി 1980 മുതൽ മാതൃഭൂമി ദിനപത്രത്തിൽ സ്റ്റാഫ് കാർട്ടൂണിസ്റ്റായി ജോലി ചെയ്തു 2003 നവംബർ 13-ന് കോഴിക്കോട്ടെ വസതിയിൽ വെച്ച് അന്തരിച്ചു കഥാകാരി ബി എം സുഹറ സഹോദരിയാണ്                                                                                                                                                                                                                                                                                                                                                                                                                          \n",
       "31314  ടി കെ സുജിത്ത്മലയാളത്തിലെ രാഷ്ട്രീയ കാർട്ടൂണിസ്റ്റുകളിൽ പ്രമുഖനാണ് സുജിത്ത് 1977 മെയ് 31-നു ടി ആർ കുമാരന്റെയും പി ആർ തങ്കമണിയുടെയും മകനായി തൃശ്ശൂരിൽ ജനിച്ചു 2001 മെയ് 14 മുതൽ കേരള കൗമുദി ദിനപത്രത്തിൽ ദിനപത്രത്തിൽ ജോലിചെയ്യുന്നു കോഴിക്കോട് സർവ്വകലാശാലയിൽ നിന്നും രസതന്ത്രത്തിൽ ബിരുദവും തൃശ്ശൂർ ഗവണ്മെന്റ് ലാ കോളെജിൽ നിന്ന് എൽ എൽ ബി ബിരുദവും തിരുവനന്തപുരം ലാ കോളെജിൽ നിന്ന് എൽ എൽ എം ബിരുദാനന്തര ബിരുദവും നേടി ചിത്രകലയിലോ കാർട്ടൂൺ വരയിലോ സാമ്പ്രാദയിക പരിശീലനം നേടിയിട്ടില്ലാത്ത ഇദ്ദേഹം താൻ ഇപ്പോഴും ഒരു വിദ്യാർത്ഥിയാണെന്നു കരുതുന്നു ലളിതമായ വരകളും കുറിക്കുകൊള്ളുന്ന വാചകങ്ങളും ഇദ്ദേഹത്തിന്റെ കാർട്ടൂൺ ശൈലിയുടെ പ്രത്യേകതയാണ് ഗ്രാമ്യ ഭാഷയുടെ പ്രയോഗം പലപ്പോഴു ഇദ്ദേഹത്തിന്റെ കാർട്ടൂണിനു ഒരു നാടൻ ടച്ച് നൽകുന്നു വായനക്കാരനുമായി കുറച്ചുകൂടി അടുത്ത് സംവദിക്കാൻ ഈ ശൈലി അദ്ദേഹത്തെ സഹായിക്കുന്നു                                                                                                                                                                         \n",
       "31315                                                                                                                                                                                                                                                                                                                                                                                                                                                                                                                                                                                                                                                                                                                                                                                                                                                                                                                                                                                          \n",
       "31316  ടി എച്ച് വിനായക് റാംതേട്ടക്കുടി ഹരിഹര വിനായക് റാം (വിക്കു വിനായക് റാം എന്നും അറിയപ്പെടുന്നു) കർണ്ണാടക സംഗീതത്തിലെ വിശ്വപ്രസിദ്ധനായ വൃന്ദവാദകനാണ് ഘടം എന്ന വാദ്യോപകരണത്തിന്റെ സാധ്യതകൾ സമീപകാലത്ത് ഏറ്റവും പ്രയോജനപ്പെടുത്തിയ ഇദ്ദേഹം ഇന്ത്യയിൽ മാത്രം പ്രചാരത്തിലുള്ള ഈ സംഗീതോപകരണത്തെ വിശ്വപ്രസിദ്ധമാക്കുന്നതിൽ നിർണ്ണായക പങ്കുവഹിച്ചു കർണ്ണാടക സംഗീതലോകത്ത് അതുല്യമായ താളബോധത്തിന്റെ പേരിൽ ശ്രദ്ധേയനാണു വിനായക് റാം അറിയപ്പെടുന്ന സംഗീതജ്ഞനായിരുന്ന ടി ആർ ഹരിഹര ശർമ്മയുടെ പുത്രനായി 1942ലാണ് വിനായക് റാം ജനിച്ചത് പതിമൂന്നാം വയസിൽ ആദ്യകച്ചേരി നടത്തിയ വിക്കു, തുടക്കത്തിൽതന്നെ ശെമ്മാങ്കുടി ശ്രീനിവാസ അയ്യർ, മധുര മണി അയ്യർ, എം എസ് സുബലക്ഷ്മി, ജി എൻ ബാലസുബ്രഹ്മണ്യം എന്നിങ്ങനെ കർണ്ണാടക സംഗീത ലോകത്തെ ആചാര്യരുമൊത്ത് കച്ചേരികൾ നടത്തി 1970കളുടെ മധ്യത്തിൽ “ശക്തി” എന്ന സംഗീതസംഘത്തിൽ അംഗമായതോടെയാണ് വിനായക് റാം രാജ്യാന്തരവേദികളിൽ ശ്രദ്ധേയനായത് ജാസ് ഗിറ്റാർ വാദകനായ ജോൺ മൿലോലിൻ, വയലിൻ വിദ്വാൻ എൽ ശങ്കർ, ലോകോത്തര തബല വാദകനായ സാക്കിർ ഹുസൈൻ എന്നിവരായിരുന്നു ശക്തിയിലെ മറ്റംഗങ്ങൾ"
      ]
     },
     "execution_count": 31,
     "metadata": {},
     "output_type": "execute_result"
    }
   ],
   "source": [
    "mldata[31313:31317]"
   ]
  },
  {
   "cell_type": "code",
   "execution_count": 42,
   "metadata": {},
   "outputs": [],
   "source": [
    "mldata.to_csv('AllWiki_cleaned.csv', index=False)"
   ]
  },
  {
   "cell_type": "code",
   "execution_count": 5,
   "metadata": {},
   "outputs": [],
   "source": [
    "with open('Newspaper_data.json', encoding='utf-8') as json_file:\n",
    "    newdata = pd.read_json(json_file, encoding='utf-8', orient='index')\n",
    "    "
   ]
  },
  {
   "cell_type": "code",
   "execution_count": 6,
   "metadata": {},
   "outputs": [],
   "source": [
    "\n",
    "newdata['text'] = newdata['text'].str.replace('([“”¨«»®´·º½¾¿¡§£₤‘’\\n\\r>])', '')\n",
    "newdata.to_csv('Newspaper_data_cleaned.csv')"
   ]
  },
  {
   "cell_type": "code",
   "execution_count": 9,
   "metadata": {},
   "outputs": [],
   "source": [
    "from sklearn.model_selection import StratifiedShuffleSplit\n",
    "\n",
    "split = StratifiedShuffleSplit(n_splits=1, test_size=0.2, random_state=42)\n",
    "for train_index, test_index in split.split(newdata, newdata[\"label\"]):\n",
    "    train_data = newdata.loc[train_index]\n",
    "    test_data = newdata.loc[test_index]"
   ]
  },
  {
   "cell_type": "code",
   "execution_count": 11,
   "metadata": {},
   "outputs": [],
   "source": [
    "train_data.to_csv(\"train.csv\", index=False, columns=[\"label\", \"text\"])\n",
    "test_data.to_csv(\"test.csv\", index=False, columns=[\"label\", \"text\"])"
   ]
  },
  {
   "cell_type": "code",
   "execution_count": 13,
   "metadata": {},
   "outputs": [
    {
     "data": {
      "image/png": "[encoded data removed]",
      "text/plain": [
       "<Figure size 432x288 with 1 Axes>"
      ]
     },
     "metadata": {
      "needs_background": "light"
     },
     "output_type": "display_data"
    }
   ],
   "source": [
    "%matplotlib inline\n",
    "# only in a Jupyter notebook\n",
    "train_data['label'].hist()\n",
    "test_data['label'].hist()\n",
    "plt.show()"
   ]
  },
  {
   "cell_type": "code",
   "execution_count": null,
   "metadata": {},
   "outputs": [],
   "source": []
  }
 ],
 "metadata": {
  "kernelspec": {
   "display_name": "Python 3",
   "language": "python",
   "name": "python3"
  },
  "language_info": {
   "codemirror_mode": {
    "name": "ipython",
    "version": 3
   },
   "file_extension": ".py",
   "mimetype": "text/x-python",
   "name": "python",
   "nbconvert_exporter": "python",
   "pygments_lexer": "ipython3",
   "version": "3.7.4"
  }
 },
 "nbformat": 4,
 "nbformat_minor": 2
}
