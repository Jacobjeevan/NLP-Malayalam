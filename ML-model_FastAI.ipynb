{
 "cells": [
  {
   "cell_type": "code",
   "execution_count": 1,
   "metadata": {},
   "outputs": [
    {
     "name": "stdout",
     "output_type": "stream",
     "text": [
      "/home/jjjeevan/ml-languagemodel\n"
     ]
    }
   ],
   "source": [
    "cd ml-languagemodel/"
   ]
  },
  {
   "cell_type": "code",
   "execution_count": 2,
   "metadata": {},
   "outputs": [
    {
     "name": "stdout",
     "output_type": "stream",
     "text": [
      "AllWiki_cleaned.csv  data_lm_export.pkl  Newspaper_data_cleaned.csv  test.csv\r\n",
      "AllWiki.csv          \u001b[0m\u001b[01;34mflair_data\u001b[0m/         Newspaper_data.json         train.csv\r\n",
      "AllWiki.json         \u001b[01;34mmodels\u001b[0m/             \u001b[01;34mresources\u001b[0m/\r\n"
     ]
    }
   ],
   "source": [
    "ls"
   ]
  },
  {
   "cell_type": "code",
   "execution_count": 3,
   "metadata": {},
   "outputs": [],
   "source": [
    "from fastai.text import * \n",
    "path = \"\""
   ]
  },
  {
   "cell_type": "code",
   "execution_count": 12,
   "metadata": {},
   "outputs": [
    {
     "data": {
      "text/html": [
       "<div>\n",
       "<style scoped>\n",
       "    .dataframe tbody tr th:only-of-type {\n",
       "        vertical-align: middle;\n",
       "    }\n",
       "\n",
       "    .dataframe tbody tr th {\n",
       "        vertical-align: top;\n",
       "    }\n",
       "\n",
       "    .dataframe thead th {\n",
       "        text-align: right;\n",
       "    }\n",
       "</style>\n",
       "<table border=\"1\" class=\"dataframe\">\n",
       "  <thead>\n",
       "    <tr style=\"text-align: right;\">\n",
       "      <th></th>\n",
       "      <th>text</th>\n",
       "    </tr>\n",
       "  </thead>\n",
       "  <tbody>\n",
       "    <tr>\n",
       "      <th>0</th>\n",
       "      <td>ഓപ്പറേഷൻ വിജയ് ഗോവ വിമോചനം , പോർച്ചുഗീസ് ഇന്ത്...</td>\n",
       "    </tr>\n",
       "    <tr>\n",
       "      <th>1</th>\n",
       "      <td>അലീം ദാർഅലീം ദാർ (ജനനം: 6 ജൂൺ 1968, പഞ്ചാബ്, പ...</td>\n",
       "    </tr>\n",
       "    <tr>\n",
       "      <th>2</th>\n",
       "      <td>പൃഥ്വി (മിസൈൽ)സംയോജിത ഗൈഡഡ് മിസൈൽ വികസന പദ്ധതി...</td>\n",
       "    </tr>\n",
       "    <tr>\n",
       "      <th>3</th>\n",
       "      <td>കള്ളിപ്പെണ്ണ്ഷാജിഫിലിംസിന്റെ ബാനറിൽ പി എ തോമസ്...</td>\n",
       "    </tr>\n",
       "    <tr>\n",
       "      <th>4</th>\n",
       "      <td>ഈഷാനോസോറസ്തെറിസീനോസൌറോയിഡ് വിഭാഗത്തിൽ പെട്ടതെന...</td>\n",
       "    </tr>\n",
       "    <tr>\n",
       "      <th>5</th>\n",
       "      <td>റോബിൻ ശർമ്മഇന്ത്യൻ വംശജനായ കനേഡിയൻ പൗരത്വമുള്ള...</td>\n",
       "    </tr>\n",
       "    <tr>\n",
       "      <th>6</th>\n",
       "      <td>വെള്ളത്താളിപശ്ചിമഘട്ടതദ്ദേശവാസിയായ ഒരു കുറ്റിച...</td>\n",
       "    </tr>\n",
       "    <tr>\n",
       "      <th>7</th>\n",
       "      <td>താന്നിക്കുറിഞ്ഞി4 മീറ്ററോളം ഉയരം വയ്ക്കുന്ന ഒര...</td>\n",
       "    </tr>\n",
       "    <tr>\n",
       "      <th>8</th>\n",
       "      <td>കല്യാണരാത്രിയിൽഎ സർട്ടിഫിക്കേറ്റ് ലഭിച്ച ആദ്യത...</td>\n",
       "    </tr>\n",
       "    <tr>\n",
       "      <th>9</th>\n",
       "      <td>ജേക്കബ് ഏറനാട്ട്എഴുത്തുകാരൻ, പത്രാധിപർ, പ്രഭാഷ...</td>\n",
       "    </tr>\n",
       "    <tr>\n",
       "      <th>10</th>\n",
       "      <td>കേരളത്തിന്റെ സമ്പദ്ഘടനകേരളത്തിലെ സമ്പദ് വ്യവസ്...</td>\n",
       "    </tr>\n",
       "    <tr>\n",
       "      <th>11</th>\n",
       "      <td>മലമാവ്പശ്ചിമഘട്ടതദ്ദേശവാസിയായ ഒരു മരമാണ് മലമാവ...</td>\n",
       "    </tr>\n",
       "    <tr>\n",
       "      <th>12</th>\n",
       "      <td>യുണൈറ്റഡ് ബ്രൂവറീസ് ഗ്രൂപ്പ്ബെംഗളൂരുവിലെ യു ബി...</td>\n",
       "    </tr>\n",
       "    <tr>\n",
       "      <th>13</th>\n",
       "      <td>ബില്ലി ജീൻ കിംഗ്അമേരിയ്ക്കൻ ടെന്നീസ് കളിക്കാരി...</td>\n",
       "    </tr>\n",
       "    <tr>\n",
       "      <th>14</th>\n",
       "      <td>ഇനിയും കുരുക്ഷേത്രംഎസ് എൽ പുരം സദാനന്ദൻ തിരക്ക...</td>\n",
       "    </tr>\n",
       "    <tr>\n",
       "      <th>15</th>\n",
       "      <td>തേക്കിൻകാട് മൈതാനംവടക്കുംനാഥൻ ക്ഷേത്രത്തിനു ചു...</td>\n",
       "    </tr>\n",
       "    <tr>\n",
       "      <th>16</th>\n",
       "      <td>ഒറീസ്സ ക്ഷാമം മദ്രാസ് മുതൽ വടക്കോട്ടുള്ള ഇന്ത്...</td>\n",
       "    </tr>\n",
       "    <tr>\n",
       "      <th>17</th>\n",
       "      <td>വിജയ നിർമ്മലഇന്ത്യൻ ചലച്ചിത്രരംഗത്തെ അഭിനേത്രി...</td>\n",
       "    </tr>\n",
       "    <tr>\n",
       "      <th>18</th>\n",
       "      <td>സച്ചിദാനന്ദ റൗത്ത് റായ്ഒഡിഷയിലെ പ്രമുഖകവിയും, ...</td>\n",
       "    </tr>\n",
       "    <tr>\n",
       "      <th>19</th>\n",
       "      <td>ആലപ്പുഴ ബോട്ടുജെട്ടികേരളത്തിലെ ഒരു പ്രധാന ബോട്...</td>\n",
       "    </tr>\n",
       "    <tr>\n",
       "      <th>20</th>\n",
       "      <td>ഇസ്ലാമിക ബാങ്ക്ഇസ്ലാമിക നിയമം (ശരീഅത്ത്) അനുസര...</td>\n",
       "    </tr>\n",
       "    <tr>\n",
       "      <th>21</th>\n",
       "      <td>ആറ്റുപുന്നകാട്ടുപുന്ന, മഞ്ഞപ്പുന്ന, വാളുഴവം എന...</td>\n",
       "    </tr>\n",
       "    <tr>\n",
       "      <th>22</th>\n",
       "      <td>നല്ലമന്ദാരം12 മീറ്റർ വരെ ഉയരം വയ്ക്കുന്ന ഒരു മ...</td>\n",
       "    </tr>\n",
       "    <tr>\n",
       "      <th>23</th>\n",
       "      <td>കരിക്കുന്നൻപശ്ചിമഘട്ടതദ്ദേശവാസിയായ ഒരിനം ചെറിയ...</td>\n",
       "    </tr>\n",
       "    <tr>\n",
       "      <th>24</th>\n",
       "      <td>കാലചക്രം (ചലച്ചിത്രം-2002)സോനു ശിശുപാൽ സംവിധാന...</td>\n",
       "    </tr>\n",
       "    <tr>\n",
       "      <th>25</th>\n",
       "      <td>ഭൂതക്കാളികല്ലുവീര, പീനാറി, വെള്ളക്കുയ്യൻ, ഭൂത,...</td>\n",
       "    </tr>\n",
       "    <tr>\n",
       "      <th>26</th>\n",
       "      <td>ഇബിഡ്പുസ്തകങ്ങളിൽ അവലംബം അഥവാ ഗ്രന്ഥസൂചികകളും ...</td>\n",
       "    </tr>\n",
       "    <tr>\n",
       "      <th>27</th>\n",
       "      <td>കുയ്യമരംകറുക്കുയ്യൻ, ഒമ, പൂച്ചക്കുരുമരം എന്നെല...</td>\n",
       "    </tr>\n",
       "    <tr>\n",
       "      <th>28</th>\n",
       "      <td>കെ ജെ ജോർജ്കർണ്ണാടകത്തിലെ പ്രമുഖ രാഷ്ട്രീയ നേത...</td>\n",
       "    </tr>\n",
       "    <tr>\n",
       "      <th>29</th>\n",
       "      <td>പ്രൊജക്റ്റ് ഗ്രീൻ ഒമാൻഒമാനിൽ പരിസ്ഥിതി സൗഹാർദ്...</td>\n",
       "    </tr>\n",
       "    <tr>\n",
       "      <th>...</th>\n",
       "      <td>...</td>\n",
       "    </tr>\n",
       "    <tr>\n",
       "      <th>68274</th>\n",
       "      <td>ബ്രൈയിൽ വിത്തൗട്ട് ബോർഡേർസ്ബ്രൈയിൽ വിത്തൗട്ട് ...</td>\n",
       "    </tr>\n",
       "    <tr>\n",
       "      <th>68275</th>\n",
       "      <td>യോസഫ് ഹെർമൻപോളിഷ് ചിത്രകാരനും എഴുത്തുകാരനുമായി...</td>\n",
       "    </tr>\n",
       "    <tr>\n",
       "      <th>68276</th>\n",
       "      <td>പനേറ്റ് ഇസ്ട്രാറ്റിറൊമാനിയൻ എഴുത്തുകാരനും കലാന...</td>\n",
       "    </tr>\n",
       "    <tr>\n",
       "      <th>68277</th>\n",
       "      <td>കെന്ദ്രിക്ക് ലാമർഒരു അമേരിക്കൻ റാപ്പറും ഗാന രച...</td>\n",
       "    </tr>\n",
       "    <tr>\n",
       "      <th>68278</th>\n",
       "      <td>കൊലിയൂർകേരളത്തിലെ കാസർഗോഡ് ജില്ലയിലുള്ള ഒരു ഗ്...</td>\n",
       "    </tr>\n",
       "    <tr>\n",
       "      <th>68279</th>\n",
       "      <td>ശ്രീരംഗംതിരുച്ചിറപ്പള്ളിയുടെ, ഭാഗമായ ഒരു ദ്വീപ...</td>\n",
       "    </tr>\n",
       "    <tr>\n",
       "      <th>68280</th>\n",
       "      <td>കല്ലുചെടികടൽനിരപ്പിൽ നിന്നും 1800 അടി ഉയരമുള്ള...</td>\n",
       "    </tr>\n",
       "    <tr>\n",
       "      <th>68281</th>\n",
       "      <td>പട്ലകേരളത്തിലെ കാസർഗോഡ് ജില്ലയിലുള്ള ഒരു ഗ്രാമ...</td>\n",
       "    </tr>\n",
       "    <tr>\n",
       "      <th>68282</th>\n",
       "      <td>ഗാർസീനിയ കഡേലിയാനഗുരുതരമായ വംശനാശഭീഷണി നേരിടുന...</td>\n",
       "    </tr>\n",
       "    <tr>\n",
       "      <th>68283</th>\n",
       "      <td>ട്രിങ്കോമാലി കൂട്ടക്കൊലകൾ 19851985 ൽ ശ്രീലങ്കയ...</td>\n",
       "    </tr>\n",
       "    <tr>\n",
       "      <th>68284</th>\n",
       "      <td>ഇലക്ട്രോമാഗ്നറ്റിക് ഇൻഡക്ഷൻഒരു ഇലക്ട്രിക് ചാലക...</td>\n",
       "    </tr>\n",
       "    <tr>\n",
       "      <th>68285</th>\n",
       "      <td>എഡ്ന ബേഎഡ്ന ബേ എന്ന പട്ടണം കോസിയുസ്കോ ദ്വീപിൽ ...</td>\n",
       "    </tr>\n",
       "    <tr>\n",
       "      <th>68286</th>\n",
       "      <td>കോഫ്മാൻ കോവ്, അലാസ്കകോഫ്മാൻ കോവ് പട്ടണം പ്രിൻസ...</td>\n",
       "    </tr>\n",
       "    <tr>\n",
       "      <th>68287</th>\n",
       "      <td>ഫോർട്ട് ഹെയ്ഡൻ, അലാസ്കപോർട്ട് ഹെയ്ഡൻ, യിലുള്ള ...</td>\n",
       "    </tr>\n",
       "    <tr>\n",
       "      <th>68288</th>\n",
       "      <td>കൽട്ടാഗ്, അലാസ്കകൽട്ടാഗ് യൂക്കോൺ-കോയുകുക്ക് സെ...</td>\n",
       "    </tr>\n",
       "    <tr>\n",
       "      <th>68289</th>\n",
       "      <td>ലോവർ കൽസ്കാഗ്, അലാസ്കലോവർ കൽസ്കാഗ് ( ') ബെഥേൽ ...</td>\n",
       "    </tr>\n",
       "    <tr>\n",
       "      <th>68290</th>\n",
       "      <td>പാവാടക്കാരിഒരു നിശാശലഭമാണ് പാവാടക്കാരി ജിയോമീറ...</td>\n",
       "    </tr>\n",
       "    <tr>\n",
       "      <th>68291</th>\n",
       "      <td>നാഗാസ്ത്രംഹൈന്ദവപുരാണങ്ങളിൽ പറയുന്ന മഹാവിഷം വമ...</td>\n",
       "    </tr>\n",
       "    <tr>\n",
       "      <th>68292</th>\n",
       "      <td>സാക്സ്മാൻ, അലാസ്കസാക്സ്മാൻ പട്ടണം റെവില്ലാഗിഗെ...</td>\n",
       "    </tr>\n",
       "    <tr>\n",
       "      <th>68293</th>\n",
       "      <td>നൈറ്റ്മ്യൂട്ട്, അലാസ്കനൈറ്റ്മ്യൂട്ട് ( ') ബെഥേ...</td>\n",
       "    </tr>\n",
       "    <tr>\n",
       "      <th>68294</th>\n",
       "      <td>ഹെർബർട്ട് ഹൂവർഅമേരിക്കൻ ഐക്യനാടുകളുടെ മുപ്പത്ത...</td>\n",
       "    </tr>\n",
       "    <tr>\n",
       "      <th>68295</th>\n",
       "      <td>ബിൽ ബ്രൈസൺജന പ്രിയ ആംഗ്ലോ - അമേരിക്കൻ എഴുത്തുക...</td>\n",
       "    </tr>\n",
       "    <tr>\n",
       "      <th>68296</th>\n",
       "      <td>യുവാൽ നോഹ ഹരാരിഇസ്രായേലുകാരനായ ഒരു ചരിത്രകാരനു...</td>\n",
       "    </tr>\n",
       "    <tr>\n",
       "      <th>68297</th>\n",
       "      <td>എസ് ഐ ഒ കേരളഇന്ത്യയിലെ വിദ്യാർഥി പ്രസ്ഥാനമാണ് ...</td>\n",
       "    </tr>\n",
       "    <tr>\n",
       "      <th>68298</th>\n",
       "      <td>ഡ്വൈറ്റ് ഐസനോവർ1953 മുതൽ1961 വരെ അമേരിക്കയുടെ ...</td>\n",
       "    </tr>\n",
       "    <tr>\n",
       "      <th>68299</th>\n",
       "      <td>ചിലിയൻ പെസോചിലിയുടെ ഔദ്യോഗിക കറൻസിയാണ് ചിലിയൻ ...</td>\n",
       "    </tr>\n",
       "    <tr>\n",
       "      <th>68300</th>\n",
       "      <td>ടീം 5 (ചലച്ചിത്രം)ക്രിക്കറ്റ് താരം ശ്രീശാന്ത്,...</td>\n",
       "    </tr>\n",
       "    <tr>\n",
       "      <th>68301</th>\n",
       "      <td>ബാഷ്പീകരണംഒരു മൂലകമോ സംയുക്തമോ അവസ്ഥാന്തരണം മൂ...</td>\n",
       "    </tr>\n",
       "    <tr>\n",
       "      <th>68302</th>\n",
       "      <td>ന്യൂഹാലെൻ, അലാസ്കന്യൂഹാലെൻ ( സെൻട്രൽ അലാസ്കൻ യ...</td>\n",
       "    </tr>\n",
       "    <tr>\n",
       "      <th>68303</th>\n",
       "      <td>ജിൻറ്റാസോറസ്തുടക്ക ക്രിറ്റേഷ്യസ് കാലത്തു ജീവിച...</td>\n",
       "    </tr>\n",
       "  </tbody>\n",
       "</table>\n",
       "<p>68304 rows × 1 columns</p>\n",
       "</div>"
      ],
      "text/plain": [
       "                                                    text\n",
       "0      ഓപ്പറേഷൻ വിജയ് ഗോവ വിമോചനം , പോർച്ചുഗീസ് ഇന്ത്...\n",
       "1      അലീം ദാർഅലീം ദാർ (ജനനം: 6 ജൂൺ 1968, പഞ്ചാബ്, പ...\n",
       "2      പൃഥ്വി (മിസൈൽ)സംയോജിത ഗൈഡഡ് മിസൈൽ വികസന പദ്ധതി...\n",
       "3      കള്ളിപ്പെണ്ണ്ഷാജിഫിലിംസിന്റെ ബാനറിൽ പി എ തോമസ്...\n",
       "4      ഈഷാനോസോറസ്തെറിസീനോസൌറോയിഡ് വിഭാഗത്തിൽ പെട്ടതെന...\n",
       "5      റോബിൻ ശർമ്മഇന്ത്യൻ വംശജനായ കനേഡിയൻ പൗരത്വമുള്ള...\n",
       "6      വെള്ളത്താളിപശ്ചിമഘട്ടതദ്ദേശവാസിയായ ഒരു കുറ്റിച...\n",
       "7      താന്നിക്കുറിഞ്ഞി4 മീറ്ററോളം ഉയരം വയ്ക്കുന്ന ഒര...\n",
       "8      കല്യാണരാത്രിയിൽഎ സർട്ടിഫിക്കേറ്റ് ലഭിച്ച ആദ്യത...\n",
       "9      ജേക്കബ് ഏറനാട്ട്എഴുത്തുകാരൻ, പത്രാധിപർ, പ്രഭാഷ...\n",
       "10     കേരളത്തിന്റെ സമ്പദ്ഘടനകേരളത്തിലെ സമ്പദ് വ്യവസ്...\n",
       "11     മലമാവ്പശ്ചിമഘട്ടതദ്ദേശവാസിയായ ഒരു മരമാണ് മലമാവ...\n",
       "12     യുണൈറ്റഡ് ബ്രൂവറീസ് ഗ്രൂപ്പ്ബെംഗളൂരുവിലെ യു ബി...\n",
       "13     ബില്ലി ജീൻ കിംഗ്അമേരിയ്ക്കൻ ടെന്നീസ് കളിക്കാരി...\n",
       "14     ഇനിയും കുരുക്ഷേത്രംഎസ് എൽ പുരം സദാനന്ദൻ തിരക്ക...\n",
       "15     തേക്കിൻകാട് മൈതാനംവടക്കുംനാഥൻ ക്ഷേത്രത്തിനു ചു...\n",
       "16     ഒറീസ്സ ക്ഷാമം മദ്രാസ് മുതൽ വടക്കോട്ടുള്ള ഇന്ത്...\n",
       "17     വിജയ നിർമ്മലഇന്ത്യൻ ചലച്ചിത്രരംഗത്തെ അഭിനേത്രി...\n",
       "18     സച്ചിദാനന്ദ റൗത്ത് റായ്ഒഡിഷയിലെ പ്രമുഖകവിയും, ...\n",
       "19     ആലപ്പുഴ ബോട്ടുജെട്ടികേരളത്തിലെ ഒരു പ്രധാന ബോട്...\n",
       "20     ഇസ്ലാമിക ബാങ്ക്ഇസ്ലാമിക നിയമം (ശരീഅത്ത്) അനുസര...\n",
       "21     ആറ്റുപുന്നകാട്ടുപുന്ന, മഞ്ഞപ്പുന്ന, വാളുഴവം എന...\n",
       "22     നല്ലമന്ദാരം12 മീറ്റർ വരെ ഉയരം വയ്ക്കുന്ന ഒരു മ...\n",
       "23     കരിക്കുന്നൻപശ്ചിമഘട്ടതദ്ദേശവാസിയായ ഒരിനം ചെറിയ...\n",
       "24     കാലചക്രം (ചലച്ചിത്രം-2002)സോനു ശിശുപാൽ സംവിധാന...\n",
       "25     ഭൂതക്കാളികല്ലുവീര, പീനാറി, വെള്ളക്കുയ്യൻ, ഭൂത,...\n",
       "26     ഇബിഡ്പുസ്തകങ്ങളിൽ അവലംബം അഥവാ ഗ്രന്ഥസൂചികകളും ...\n",
       "27     കുയ്യമരംകറുക്കുയ്യൻ, ഒമ, പൂച്ചക്കുരുമരം എന്നെല...\n",
       "28     കെ ജെ ജോർജ്കർണ്ണാടകത്തിലെ പ്രമുഖ രാഷ്ട്രീയ നേത...\n",
       "29     പ്രൊജക്റ്റ് ഗ്രീൻ ഒമാൻഒമാനിൽ പരിസ്ഥിതി സൗഹാർദ്...\n",
       "...                                                  ...\n",
       "68274  ബ്രൈയിൽ വിത്തൗട്ട് ബോർഡേർസ്ബ്രൈയിൽ വിത്തൗട്ട് ...\n",
       "68275  യോസഫ് ഹെർമൻപോളിഷ് ചിത്രകാരനും എഴുത്തുകാരനുമായി...\n",
       "68276  പനേറ്റ് ഇസ്ട്രാറ്റിറൊമാനിയൻ എഴുത്തുകാരനും കലാന...\n",
       "68277  കെന്ദ്രിക്ക് ലാമർഒരു അമേരിക്കൻ റാപ്പറും ഗാന രച...\n",
       "68278  കൊലിയൂർകേരളത്തിലെ കാസർഗോഡ് ജില്ലയിലുള്ള ഒരു ഗ്...\n",
       "68279  ശ്രീരംഗംതിരുച്ചിറപ്പള്ളിയുടെ, ഭാഗമായ ഒരു ദ്വീപ...\n",
       "68280  കല്ലുചെടികടൽനിരപ്പിൽ നിന്നും 1800 അടി ഉയരമുള്ള...\n",
       "68281  പട്ലകേരളത്തിലെ കാസർഗോഡ് ജില്ലയിലുള്ള ഒരു ഗ്രാമ...\n",
       "68282  ഗാർസീനിയ കഡേലിയാനഗുരുതരമായ വംശനാശഭീഷണി നേരിടുന...\n",
       "68283  ട്രിങ്കോമാലി കൂട്ടക്കൊലകൾ 19851985 ൽ ശ്രീലങ്കയ...\n",
       "68284  ഇലക്ട്രോമാഗ്നറ്റിക് ഇൻഡക്ഷൻഒരു ഇലക്ട്രിക് ചാലക...\n",
       "68285  എഡ്ന ബേഎഡ്ന ബേ എന്ന പട്ടണം കോസിയുസ്കോ ദ്വീപിൽ ...\n",
       "68286  കോഫ്മാൻ കോവ്, അലാസ്കകോഫ്മാൻ കോവ് പട്ടണം പ്രിൻസ...\n",
       "68287  ഫോർട്ട് ഹെയ്ഡൻ, അലാസ്കപോർട്ട് ഹെയ്ഡൻ, യിലുള്ള ...\n",
       "68288  കൽട്ടാഗ്, അലാസ്കകൽട്ടാഗ് യൂക്കോൺ-കോയുകുക്ക് സെ...\n",
       "68289  ലോവർ കൽസ്കാഗ്, അലാസ്കലോവർ കൽസ്കാഗ് ( ') ബെഥേൽ ...\n",
       "68290  പാവാടക്കാരിഒരു നിശാശലഭമാണ് പാവാടക്കാരി ജിയോമീറ...\n",
       "68291  നാഗാസ്ത്രംഹൈന്ദവപുരാണങ്ങളിൽ പറയുന്ന മഹാവിഷം വമ...\n",
       "68292  സാക്സ്മാൻ, അലാസ്കസാക്സ്മാൻ പട്ടണം റെവില്ലാഗിഗെ...\n",
       "68293  നൈറ്റ്മ്യൂട്ട്, അലാസ്കനൈറ്റ്മ്യൂട്ട് ( ') ബെഥേ...\n",
       "68294  ഹെർബർട്ട് ഹൂവർഅമേരിക്കൻ ഐക്യനാടുകളുടെ മുപ്പത്ത...\n",
       "68295  ബിൽ ബ്രൈസൺജന പ്രിയ ആംഗ്ലോ - അമേരിക്കൻ എഴുത്തുക...\n",
       "68296  യുവാൽ നോഹ ഹരാരിഇസ്രായേലുകാരനായ ഒരു ചരിത്രകാരനു...\n",
       "68297  എസ് ഐ ഒ കേരളഇന്ത്യയിലെ വിദ്യാർഥി പ്രസ്ഥാനമാണ് ...\n",
       "68298  ഡ്വൈറ്റ് ഐസനോവർ1953 മുതൽ1961 വരെ അമേരിക്കയുടെ ...\n",
       "68299  ചിലിയൻ പെസോചിലിയുടെ ഔദ്യോഗിക കറൻസിയാണ് ചിലിയൻ ...\n",
       "68300  ടീം 5 (ചലച്ചിത്രം)ക്രിക്കറ്റ് താരം ശ്രീശാന്ത്,...\n",
       "68301  ബാഷ്പീകരണംഒരു മൂലകമോ സംയുക്തമോ അവസ്ഥാന്തരണം മൂ...\n",
       "68302  ന്യൂഹാലെൻ, അലാസ്കന്യൂഹാലെൻ ( സെൻട്രൽ അലാസ്കൻ യ...\n",
       "68303  ജിൻറ്റാസോറസ്തുടക്ക ക്രിറ്റേഷ്യസ് കാലത്തു ജീവിച...\n",
       "\n",
       "[68304 rows x 1 columns]"
      ]
     },
     "execution_count": 12,
     "metadata": {},
     "output_type": "execute_result"
    }
   ],
   "source": [
    "#import pandas as pd\n",
    "\n",
    "df = pd.read_csv('AllWiki_cleaned.csv')\n",
    "#df = df.dropna()\n",
    "#df.to_csv('AllWiki_cleaned.csv', index=False)\n",
    "df"
   ]
  },
  {
   "cell_type": "code",
   "execution_count": 13,
   "metadata": {},
   "outputs": [],
   "source": [
    "def SimpleTokenizer(BaseTokenizer):\n",
    "    def tokenizer(self, tkn:str):    \n",
    "        tkn = re.split('\\.|\\s',tkn)\n",
    "        tkn = list(filter(None, tkn)) \n",
    "        #mld.remove('')\n",
    "        return tkn\n",
    "    def add_special_cases(self, toks:Collection[str]): pass"
   ]
  },
  {
   "cell_type": "code",
   "execution_count": 14,
   "metadata": {},
   "outputs": [
    {
     "data": {
      "text/html": [],
      "text/plain": [
       "<IPython.core.display.HTML object>"
      ]
     },
     "metadata": {},
     "output_type": "display_data"
    },
    {
     "ename": "AttributeError",
     "evalue": "'function' object has no attribute 'process_all'",
     "output_type": "error",
     "traceback": [
      "\u001b[0;31m---------------------------------------------------------------------------\u001b[0m",
      "\u001b[0;31mAttributeError\u001b[0m                            Traceback (most recent call last)",
      "\u001b[0;32m<ipython-input-14-34ffd7fd10d0>\u001b[0m in \u001b[0;36m<module>\u001b[0;34m\u001b[0m\n\u001b[0;32m----> 1\u001b[0;31m \u001b[0mdata_lm\u001b[0m \u001b[0;34m=\u001b[0m \u001b[0mTextLMDataBunch\u001b[0m\u001b[0;34m.\u001b[0m\u001b[0mfrom_csv\u001b[0m\u001b[0;34m(\u001b[0m\u001b[0mpath\u001b[0m\u001b[0;34m,\u001b[0m \u001b[0;34m'AllWiki_cleaned.csv'\u001b[0m\u001b[0;34m,\u001b[0m \u001b[0mtokenizer\u001b[0m\u001b[0;34m=\u001b[0m\u001b[0mSimpleTokenizer\u001b[0m\u001b[0;34m,\u001b[0m \u001b[0mtext_cols\u001b[0m\u001b[0;34m=\u001b[0m\u001b[0;36m0\u001b[0m\u001b[0;34m)\u001b[0m\u001b[0;34m\u001b[0m\u001b[0;34m\u001b[0m\u001b[0m\n\u001b[0m",
      "\u001b[0;32m~/.local/lib/python3.6/site-packages/fastai/text/data.py\u001b[0m in \u001b[0;36mfrom_csv\u001b[0;34m(cls, path, csv_name, valid_pct, test, tokenizer, vocab, classes, delimiter, header, text_cols, label_cols, label_delim, chunksize, max_vocab, min_freq, mark_fields, include_bos, include_eos, **kwargs)\u001b[0m\n\u001b[1;32m    222\u001b[0m                            \u001b[0mlabel_cols\u001b[0m\u001b[0;34m=\u001b[0m\u001b[0mlabel_cols\u001b[0m\u001b[0;34m,\u001b[0m \u001b[0mlabel_delim\u001b[0m\u001b[0;34m=\u001b[0m\u001b[0mlabel_delim\u001b[0m\u001b[0;34m,\u001b[0m \u001b[0mchunksize\u001b[0m\u001b[0;34m=\u001b[0m\u001b[0mchunksize\u001b[0m\u001b[0;34m,\u001b[0m \u001b[0mmax_vocab\u001b[0m\u001b[0;34m=\u001b[0m\u001b[0mmax_vocab\u001b[0m\u001b[0;34m,\u001b[0m\u001b[0;34m\u001b[0m\u001b[0;34m\u001b[0m\u001b[0m\n\u001b[1;32m    223\u001b[0m                            \u001b[0mmin_freq\u001b[0m\u001b[0;34m=\u001b[0m\u001b[0mmin_freq\u001b[0m\u001b[0;34m,\u001b[0m \u001b[0mmark_fields\u001b[0m\u001b[0;34m=\u001b[0m\u001b[0mmark_fields\u001b[0m\u001b[0;34m,\u001b[0m\u001b[0;34m\u001b[0m\u001b[0;34m\u001b[0m\u001b[0m\n\u001b[0;32m--> 224\u001b[0;31m                            include_bos=include_bos, include_eos=include_eos, **kwargs)\n\u001b[0m\u001b[1;32m    225\u001b[0m \u001b[0;34m\u001b[0m\u001b[0m\n\u001b[1;32m    226\u001b[0m     \u001b[0;34m@\u001b[0m\u001b[0mclassmethod\u001b[0m\u001b[0;34m\u001b[0m\u001b[0;34m\u001b[0m\u001b[0m\n",
      "\u001b[0;32m~/.local/lib/python3.6/site-packages/fastai/text/data.py\u001b[0m in \u001b[0;36mfrom_df\u001b[0;34m(cls, path, train_df, valid_df, test_df, tokenizer, vocab, classes, text_cols, label_cols, label_delim, chunksize, max_vocab, min_freq, mark_fields, include_bos, include_eos, **kwargs)\u001b[0m\n\u001b[1;32m    200\u001b[0m         src = ItemLists(path, TextList.from_df(train_df, path, cols=text_cols, processor=processor),\n\u001b[1;32m    201\u001b[0m                         TextList.from_df(valid_df, path, cols=text_cols, processor=processor))\n\u001b[0;32m--> 202\u001b[0;31m         \u001b[0;32mif\u001b[0m \u001b[0mcls\u001b[0m\u001b[0;34m==\u001b[0m\u001b[0mTextLMDataBunch\u001b[0m\u001b[0;34m:\u001b[0m \u001b[0msrc\u001b[0m \u001b[0;34m=\u001b[0m \u001b[0msrc\u001b[0m\u001b[0;34m.\u001b[0m\u001b[0mlabel_for_lm\u001b[0m\u001b[0;34m(\u001b[0m\u001b[0;34m)\u001b[0m\u001b[0;34m\u001b[0m\u001b[0;34m\u001b[0m\u001b[0m\n\u001b[0m\u001b[1;32m    203\u001b[0m         \u001b[0;32melse\u001b[0m\u001b[0;34m:\u001b[0m\u001b[0;34m\u001b[0m\u001b[0;34m\u001b[0m\u001b[0m\n\u001b[1;32m    204\u001b[0m             \u001b[0;32mif\u001b[0m \u001b[0mlabel_delim\u001b[0m \u001b[0;32mis\u001b[0m \u001b[0;32mnot\u001b[0m \u001b[0;32mNone\u001b[0m\u001b[0;34m:\u001b[0m \u001b[0msrc\u001b[0m \u001b[0;34m=\u001b[0m \u001b[0msrc\u001b[0m\u001b[0;34m.\u001b[0m\u001b[0mlabel_from_df\u001b[0m\u001b[0;34m(\u001b[0m\u001b[0mcols\u001b[0m\u001b[0;34m=\u001b[0m\u001b[0mlabel_cols\u001b[0m\u001b[0;34m,\u001b[0m \u001b[0mclasses\u001b[0m\u001b[0;34m=\u001b[0m\u001b[0mclasses\u001b[0m\u001b[0;34m,\u001b[0m \u001b[0mlabel_delim\u001b[0m\u001b[0;34m=\u001b[0m\u001b[0mlabel_delim\u001b[0m\u001b[0;34m)\u001b[0m\u001b[0;34m\u001b[0m\u001b[0;34m\u001b[0m\u001b[0m\n",
      "\u001b[0;32m~/.local/lib/python3.6/site-packages/fastai/data_block.py\u001b[0m in \u001b[0;36m_inner\u001b[0;34m(*args, **kwargs)\u001b[0m\n\u001b[1;32m    478\u001b[0m             \u001b[0mself\u001b[0m\u001b[0;34m.\u001b[0m\u001b[0mvalid\u001b[0m \u001b[0;34m=\u001b[0m \u001b[0mfv\u001b[0m\u001b[0;34m(\u001b[0m\u001b[0;34m*\u001b[0m\u001b[0margs\u001b[0m\u001b[0;34m,\u001b[0m \u001b[0mfrom_item_lists\u001b[0m\u001b[0;34m=\u001b[0m\u001b[0;32mTrue\u001b[0m\u001b[0;34m,\u001b[0m \u001b[0;34m**\u001b[0m\u001b[0mkwargs\u001b[0m\u001b[0;34m)\u001b[0m\u001b[0;34m\u001b[0m\u001b[0;34m\u001b[0m\u001b[0m\n\u001b[1;32m    479\u001b[0m             \u001b[0mself\u001b[0m\u001b[0;34m.\u001b[0m\u001b[0m__class__\u001b[0m \u001b[0;34m=\u001b[0m \u001b[0mLabelLists\u001b[0m\u001b[0;34m\u001b[0m\u001b[0;34m\u001b[0m\u001b[0m\n\u001b[0;32m--> 480\u001b[0;31m             \u001b[0mself\u001b[0m\u001b[0;34m.\u001b[0m\u001b[0mprocess\u001b[0m\u001b[0;34m(\u001b[0m\u001b[0;34m)\u001b[0m\u001b[0;34m\u001b[0m\u001b[0;34m\u001b[0m\u001b[0m\n\u001b[0m\u001b[1;32m    481\u001b[0m             \u001b[0;32mreturn\u001b[0m \u001b[0mself\u001b[0m\u001b[0;34m\u001b[0m\u001b[0;34m\u001b[0m\u001b[0m\n\u001b[1;32m    482\u001b[0m         \u001b[0;32mreturn\u001b[0m \u001b[0m_inner\u001b[0m\u001b[0;34m\u001b[0m\u001b[0;34m\u001b[0m\u001b[0m\n",
      "\u001b[0;32m~/.local/lib/python3.6/site-packages/fastai/data_block.py\u001b[0m in \u001b[0;36mprocess\u001b[0;34m(self)\u001b[0m\n\u001b[1;32m    532\u001b[0m         \u001b[0;34m\"Process the inner datasets.\"\u001b[0m\u001b[0;34m\u001b[0m\u001b[0;34m\u001b[0m\u001b[0m\n\u001b[1;32m    533\u001b[0m         \u001b[0mxp\u001b[0m\u001b[0;34m,\u001b[0m\u001b[0myp\u001b[0m \u001b[0;34m=\u001b[0m \u001b[0mself\u001b[0m\u001b[0;34m.\u001b[0m\u001b[0mget_processors\u001b[0m\u001b[0;34m(\u001b[0m\u001b[0;34m)\u001b[0m\u001b[0;34m\u001b[0m\u001b[0;34m\u001b[0m\u001b[0m\n\u001b[0;32m--> 534\u001b[0;31m         \u001b[0;32mfor\u001b[0m \u001b[0mds\u001b[0m\u001b[0;34m,\u001b[0m\u001b[0mn\u001b[0m \u001b[0;32min\u001b[0m \u001b[0mzip\u001b[0m\u001b[0;34m(\u001b[0m\u001b[0mself\u001b[0m\u001b[0;34m.\u001b[0m\u001b[0mlists\u001b[0m\u001b[0;34m,\u001b[0m \u001b[0;34m[\u001b[0m\u001b[0;34m'train'\u001b[0m\u001b[0;34m,\u001b[0m\u001b[0;34m'valid'\u001b[0m\u001b[0;34m,\u001b[0m\u001b[0;34m'test'\u001b[0m\u001b[0;34m]\u001b[0m\u001b[0;34m)\u001b[0m\u001b[0;34m:\u001b[0m \u001b[0mds\u001b[0m\u001b[0;34m.\u001b[0m\u001b[0mprocess\u001b[0m\u001b[0;34m(\u001b[0m\u001b[0mxp\u001b[0m\u001b[0;34m,\u001b[0m \u001b[0myp\u001b[0m\u001b[0;34m,\u001b[0m \u001b[0mname\u001b[0m\u001b[0;34m=\u001b[0m\u001b[0mn\u001b[0m\u001b[0;34m)\u001b[0m\u001b[0;34m\u001b[0m\u001b[0;34m\u001b[0m\u001b[0m\n\u001b[0m\u001b[1;32m    535\u001b[0m         \u001b[0;31m#progress_bar clear the outputs so in some case warnings issued during processing disappear.\u001b[0m\u001b[0;34m\u001b[0m\u001b[0;34m\u001b[0m\u001b[0;34m\u001b[0m\u001b[0m\n\u001b[1;32m    536\u001b[0m         \u001b[0;32mfor\u001b[0m \u001b[0mds\u001b[0m \u001b[0;32min\u001b[0m \u001b[0mself\u001b[0m\u001b[0;34m.\u001b[0m\u001b[0mlists\u001b[0m\u001b[0;34m:\u001b[0m\u001b[0;34m\u001b[0m\u001b[0;34m\u001b[0m\u001b[0m\n",
      "\u001b[0;32m~/.local/lib/python3.6/site-packages/fastai/data_block.py\u001b[0m in \u001b[0;36mprocess\u001b[0;34m(self, xp, yp, name, max_warn_items)\u001b[0m\n\u001b[1;32m    712\u001b[0m                     \u001b[0mp\u001b[0m\u001b[0;34m.\u001b[0m\u001b[0mwarns\u001b[0m \u001b[0;34m=\u001b[0m \u001b[0;34m[\u001b[0m\u001b[0;34m]\u001b[0m\u001b[0;34m\u001b[0m\u001b[0;34m\u001b[0m\u001b[0m\n\u001b[1;32m    713\u001b[0m                 \u001b[0mself\u001b[0m\u001b[0;34m.\u001b[0m\u001b[0mx\u001b[0m\u001b[0;34m,\u001b[0m\u001b[0mself\u001b[0m\u001b[0;34m.\u001b[0m\u001b[0my\u001b[0m \u001b[0;34m=\u001b[0m \u001b[0mself\u001b[0m\u001b[0;34m.\u001b[0m\u001b[0mx\u001b[0m\u001b[0;34m[\u001b[0m\u001b[0;34m~\u001b[0m\u001b[0mfilt\u001b[0m\u001b[0;34m]\u001b[0m\u001b[0;34m,\u001b[0m\u001b[0mself\u001b[0m\u001b[0;34m.\u001b[0m\u001b[0my\u001b[0m\u001b[0;34m[\u001b[0m\u001b[0;34m~\u001b[0m\u001b[0mfilt\u001b[0m\u001b[0;34m]\u001b[0m\u001b[0;34m\u001b[0m\u001b[0;34m\u001b[0m\u001b[0m\n\u001b[0;32m--> 714\u001b[0;31m         \u001b[0mself\u001b[0m\u001b[0;34m.\u001b[0m\u001b[0mx\u001b[0m\u001b[0;34m.\u001b[0m\u001b[0mprocess\u001b[0m\u001b[0;34m(\u001b[0m\u001b[0mxp\u001b[0m\u001b[0;34m)\u001b[0m\u001b[0;34m\u001b[0m\u001b[0;34m\u001b[0m\u001b[0m\n\u001b[0m\u001b[1;32m    715\u001b[0m         \u001b[0;32mreturn\u001b[0m \u001b[0mself\u001b[0m\u001b[0;34m\u001b[0m\u001b[0;34m\u001b[0m\u001b[0m\n\u001b[1;32m    716\u001b[0m \u001b[0;34m\u001b[0m\u001b[0m\n",
      "\u001b[0;32m~/.local/lib/python3.6/site-packages/fastai/data_block.py\u001b[0m in \u001b[0;36mprocess\u001b[0;34m(self, processor)\u001b[0m\n\u001b[1;32m     82\u001b[0m         \u001b[0;32mif\u001b[0m \u001b[0mprocessor\u001b[0m \u001b[0;32mis\u001b[0m \u001b[0;32mnot\u001b[0m \u001b[0;32mNone\u001b[0m\u001b[0;34m:\u001b[0m \u001b[0mself\u001b[0m\u001b[0;34m.\u001b[0m\u001b[0mprocessor\u001b[0m \u001b[0;34m=\u001b[0m \u001b[0mprocessor\u001b[0m\u001b[0;34m\u001b[0m\u001b[0;34m\u001b[0m\u001b[0m\n\u001b[1;32m     83\u001b[0m         \u001b[0mself\u001b[0m\u001b[0;34m.\u001b[0m\u001b[0mprocessor\u001b[0m \u001b[0;34m=\u001b[0m \u001b[0mlistify\u001b[0m\u001b[0;34m(\u001b[0m\u001b[0mself\u001b[0m\u001b[0;34m.\u001b[0m\u001b[0mprocessor\u001b[0m\u001b[0;34m)\u001b[0m\u001b[0;34m\u001b[0m\u001b[0;34m\u001b[0m\u001b[0m\n\u001b[0;32m---> 84\u001b[0;31m         \u001b[0;32mfor\u001b[0m \u001b[0mp\u001b[0m \u001b[0;32min\u001b[0m \u001b[0mself\u001b[0m\u001b[0;34m.\u001b[0m\u001b[0mprocessor\u001b[0m\u001b[0;34m:\u001b[0m \u001b[0mp\u001b[0m\u001b[0;34m.\u001b[0m\u001b[0mprocess\u001b[0m\u001b[0;34m(\u001b[0m\u001b[0mself\u001b[0m\u001b[0;34m)\u001b[0m\u001b[0;34m\u001b[0m\u001b[0;34m\u001b[0m\u001b[0m\n\u001b[0m\u001b[1;32m     85\u001b[0m         \u001b[0;32mreturn\u001b[0m \u001b[0mself\u001b[0m\u001b[0;34m\u001b[0m\u001b[0;34m\u001b[0m\u001b[0m\n\u001b[1;32m     86\u001b[0m \u001b[0;34m\u001b[0m\u001b[0m\n",
      "\u001b[0;32m~/.local/lib/python3.6/site-packages/fastai/text/data.py\u001b[0m in \u001b[0;36mprocess\u001b[0;34m(self, ds)\u001b[0m\n\u001b[1;32m    295\u001b[0m         \u001b[0mtokens\u001b[0m \u001b[0;34m=\u001b[0m \u001b[0;34m[\u001b[0m\u001b[0;34m]\u001b[0m\u001b[0;34m\u001b[0m\u001b[0;34m\u001b[0m\u001b[0m\n\u001b[1;32m    296\u001b[0m         \u001b[0;32mfor\u001b[0m \u001b[0mi\u001b[0m \u001b[0;32min\u001b[0m \u001b[0mprogress_bar\u001b[0m\u001b[0;34m(\u001b[0m\u001b[0mrange\u001b[0m\u001b[0;34m(\u001b[0m\u001b[0;36m0\u001b[0m\u001b[0;34m,\u001b[0m\u001b[0mlen\u001b[0m\u001b[0;34m(\u001b[0m\u001b[0mds\u001b[0m\u001b[0;34m)\u001b[0m\u001b[0;34m,\u001b[0m\u001b[0mself\u001b[0m\u001b[0;34m.\u001b[0m\u001b[0mchunksize\u001b[0m\u001b[0;34m)\u001b[0m\u001b[0;34m,\u001b[0m \u001b[0mleave\u001b[0m\u001b[0;34m=\u001b[0m\u001b[0;32mFalse\u001b[0m\u001b[0;34m)\u001b[0m\u001b[0;34m:\u001b[0m\u001b[0;34m\u001b[0m\u001b[0;34m\u001b[0m\u001b[0m\n\u001b[0;32m--> 297\u001b[0;31m             \u001b[0mtokens\u001b[0m \u001b[0;34m+=\u001b[0m \u001b[0mself\u001b[0m\u001b[0;34m.\u001b[0m\u001b[0mtokenizer\u001b[0m\u001b[0;34m.\u001b[0m\u001b[0mprocess_all\u001b[0m\u001b[0;34m(\u001b[0m\u001b[0mds\u001b[0m\u001b[0;34m.\u001b[0m\u001b[0mitems\u001b[0m\u001b[0;34m[\u001b[0m\u001b[0mi\u001b[0m\u001b[0;34m:\u001b[0m\u001b[0mi\u001b[0m\u001b[0;34m+\u001b[0m\u001b[0mself\u001b[0m\u001b[0;34m.\u001b[0m\u001b[0mchunksize\u001b[0m\u001b[0;34m]\u001b[0m\u001b[0;34m)\u001b[0m\u001b[0;34m\u001b[0m\u001b[0;34m\u001b[0m\u001b[0m\n\u001b[0m\u001b[1;32m    298\u001b[0m         \u001b[0mds\u001b[0m\u001b[0;34m.\u001b[0m\u001b[0mitems\u001b[0m \u001b[0;34m=\u001b[0m \u001b[0mtokens\u001b[0m\u001b[0;34m\u001b[0m\u001b[0;34m\u001b[0m\u001b[0m\n\u001b[1;32m    299\u001b[0m \u001b[0;34m\u001b[0m\u001b[0m\n",
      "\u001b[0;31mAttributeError\u001b[0m: 'function' object has no attribute 'process_all'"
     ]
    }
   ],
   "source": [
    "data_lm = TextLMDataBunch.from_csv(path, 'AllWiki_cleaned.csv', tokenizer=SimpleTokenizer, text_cols=0)"
   ]
  },
  {
   "cell_type": "code",
   "execution_count": null,
   "metadata": {},
   "outputs": [],
   "source": [
    "data_lm.save('data_lm_export.pkl')\n",
    "#data_lm = load_data(path, 'data_lm_export.pkl')"
   ]
  },
  {
   "cell_type": "code",
   "execution_count": null,
   "metadata": {
    "scrolled": true
   },
   "outputs": [],
   "source": [
    "#learn = language_model_learner(data_lm, AWD_LSTM, drop_mult=0.5)\n",
    "learn = language_model_learner(data_lm, Transformer, pretrained=False, drop_mult=0.3, metrics=accuracy)"
   ]
  },
  {
   "cell_type": "code",
   "execution_count": null,
   "metadata": {},
   "outputs": [],
   "source": [
    "learn.lr_find()\n",
    "learn.recorder.plot()"
   ]
  },
  {
   "cell_type": "code",
   "execution_count": null,
   "metadata": {},
   "outputs": [],
   "source": [
    "learn.fit_one_cycle(10, 1e-5)"
   ]
  },
  {
   "cell_type": "code",
   "execution_count": null,
   "metadata": {},
   "outputs": [],
   "source": [
    "learn.fit_one_cycle(10, 5e-4)"
   ]
  },
  {
   "cell_type": "code",
   "execution_count": null,
   "metadata": {},
   "outputs": [],
   "source": [
    "learn.save_encoder('first-5e-4')"
   ]
  },
  {
   "cell_type": "code",
   "execution_count": null,
   "metadata": {},
   "outputs": [],
   "source": [
    "learn.recorder.plot_losses()"
   ]
  },
  {
   "cell_type": "code",
   "execution_count": null,
   "metadata": {},
   "outputs": [],
   "source": [
    "learn.recorder.plot_metrics()"
   ]
  },
  {
   "cell_type": "code",
   "execution_count": null,
   "metadata": {},
   "outputs": [],
   "source": [
    "data_clas = TextClasDataBunch.from_csv(path, 'Newspaper_data_cleaned.csv', vocab=data_lm.train_ds.vocab, bs=32, text_cols=1, label_cols=0)"
   ]
  },
  {
   "cell_type": "code",
   "execution_count": null,
   "metadata": {},
   "outputs": [],
   "source": [
    "data_clas.save('data_clas_export.pkl')\n",
    "#data_clas = load_data(path, 'data_clas_export.pkl', bs=16)"
   ]
  },
  {
   "cell_type": "code",
   "execution_count": null,
   "metadata": {},
   "outputs": [],
   "source": [
    "#learn.save_encoder('untrained')\n",
    "# learn.load_encoder('untrained')"
   ]
  },
  {
   "cell_type": "code",
   "execution_count": null,
   "metadata": {},
   "outputs": [],
   "source": [
    "learn.unfreeze()\n",
    "learn.fit_one_cycle(1, 1e-2)"
   ]
  },
  {
   "cell_type": "code",
   "execution_count": null,
   "metadata": {},
   "outputs": [],
   "source": [
    "learn.save_encoder('second-1e-2')"
   ]
  },
  {
   "cell_type": "code",
   "execution_count": null,
   "metadata": {},
   "outputs": [],
   "source": [
    "#learn.load_encoder('ft_enc')\n",
    "learn = text_classifier_learner(data_clas, Transformer, drop_mult=0.5)\n",
    "data_clas.show_batch()"
   ]
  },
  {
   "cell_type": "code",
   "execution_count": null,
   "metadata": {},
   "outputs": [],
   "source": [
    "learn.fit_one_cycle(1, 1e-2)"
   ]
  },
  {
   "cell_type": "code",
   "execution_count": null,
   "metadata": {},
   "outputs": [],
   "source": [
    "learn.fit_one_cycle(5, 1e-2)"
   ]
  },
  {
   "cell_type": "code",
   "execution_count": null,
   "metadata": {},
   "outputs": [],
   "source": [
    "learn.freeze_to(-2)\n",
    "learn.fit_one_cycle(1, slice(5e-3/2., 5e-3))"
   ]
  },
  {
   "cell_type": "code",
   "execution_count": null,
   "metadata": {},
   "outputs": [],
   "source": [
    "learn.freeze_to(-2)\n",
    "learn.fit(1, 3e-1)"
   ]
  },
  {
   "cell_type": "code",
   "execution_count": null,
   "metadata": {},
   "outputs": [],
   "source": [
    "learn.show_results()"
   ]
  },
  {
   "cell_type": "code",
   "execution_count": null,
   "metadata": {},
   "outputs": [],
   "source": []
  }
 ],
 "metadata": {
  "kernelspec": {
   "display_name": "nlp_env",
   "language": "python",
   "name": "nlp_env"
  },
  "language_info": {
   "codemirror_mode": {
    "name": "ipython",
    "version": 3
   },
   "file_extension": ".py",
   "mimetype": "text/x-python",
   "name": "python",
   "nbconvert_exporter": "python",
   "pygments_lexer": "ipython3",
   "version": "3.6.7"
  }
 },
 "nbformat": 4,
 "nbformat_minor": 2
}
